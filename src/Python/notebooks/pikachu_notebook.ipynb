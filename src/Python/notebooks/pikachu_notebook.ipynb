{
 "cells": [
  {
   "cell_type": "code",
   "execution_count": null,
   "metadata": {},
   "outputs": [],
   "source": [
    "#! Preparar a Imagem (Parâmetros aqui)\n",
    "PATH_IMAGEM = r'C:\\Users\\PedroVictorRodrigues\\Documents\\GitHub\\elon-musk\\Tecnologia e Inovação\\Visão Computacional\\assets\\Train Data\\pagina_1.jpg'\n",
    "pikachu = Pikachu(PATH_IMAGEM)\n",
    "\n",
    "# Processando imagem\n",
    "img_processada = pikachu.ProcessarImagem()\n",
    "plt.imshow(img_processada)\n",
    "\n",
    "# Extraindo texto\n",
    "txt = pikachu.extrairTextoManuscrito(img_processada)\n",
    "print(txt)\n",
    "\n",
    "pikachu.ataqueFlaskEletrico()\n",
    "\n"
   ]
  }
 ],
 "metadata": {
  "language_info": {
   "name": "python"
  },
  "orig_nbformat": 4
 },
 "nbformat": 4,
 "nbformat_minor": 2
}
