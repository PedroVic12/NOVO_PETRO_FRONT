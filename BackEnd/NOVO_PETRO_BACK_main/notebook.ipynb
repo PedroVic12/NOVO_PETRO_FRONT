{
 "cells": [
  {
   "cell_type": "code",
   "execution_count": 33,
   "metadata": {},
   "outputs": [
    {
     "name": "stdout",
     "output_type": "stream",
     "text": [
      "\u001b[?25lSuccess! Added /home/pedrov/.local/bin to the PATH environment variable.\n",
      "\n",
      "Consider adding shell completions for pipx. Run 'pipx completions' for\n",
      "instructions.\n",
      "\n",
      "You will need to open a new terminal or re-login for the PATH changes to take\n",
      "effect.\n",
      "\n",
      "Otherwise pipx is ready to go! ✨ 🌟 ✨\n",
      "\u001b[?25h\u001b[0m"
     ]
    }
   ],
   "source": [
    "!python -m pipx ensurepath"
   ]
  },
  {
   "cell_type": "code",
   "execution_count": 32,
   "metadata": {},
   "outputs": [
    {
     "name": "stdout",
     "output_type": "stream",
     "text": [
      "Collecting pipx\n",
      "  Downloading pipx-1.2.0-py3-none-any.whl (57 kB)\n",
      "\u001b[2K     \u001b[90m━━━━━━━━━━━━━━━━━━━━━━━━━━━━━━━━━━━━━━━\u001b[0m \u001b[32m57.8/57.8 kB\u001b[0m \u001b[31m482.9 kB/s\u001b[0m eta \u001b[36m0:00:00\u001b[0ma \u001b[36m0:00:01\u001b[0m\n",
      "\u001b[?25hCollecting argcomplete>=1.9.4 (from pipx)\n",
      "  Obtaining dependency information for argcomplete>=1.9.4 from https://files.pythonhosted.org/packages/1e/05/223116a4a5905d6b26bff334ffc7b74474fafe23fcb10532caf0ef86ca69/argcomplete-3.1.2-py3-none-any.whl.metadata\n",
      "  Downloading argcomplete-3.1.2-py3-none-any.whl.metadata (16 kB)\n",
      "Requirement already satisfied: packaging>=20.0 in /usr/lib/python3.11/site-packages (from pipx) (23.1)\n",
      "Collecting userpath>=1.6.0 (from pipx)\n",
      "  Obtaining dependency information for userpath>=1.6.0 from https://files.pythonhosted.org/packages/a2/28/20c7dcdb12681b2e12224184a8a158e5df51feb0c68116cb4b1b991a4aab/userpath-1.9.1-py3-none-any.whl.metadata\n",
      "  Downloading userpath-1.9.1-py3-none-any.whl.metadata (3.0 kB)\n",
      "Requirement already satisfied: click in /usr/lib/python3.11/site-packages (from userpath>=1.6.0->pipx) (8.1.7)\n",
      "Downloading argcomplete-3.1.2-py3-none-any.whl (41 kB)\n",
      "\u001b[2K   \u001b[90m━━━━━━━━━━━━━━━━━━━━━━━━━━━━━━━━━━━━━━━━\u001b[0m \u001b[32m41.5/41.5 kB\u001b[0m \u001b[31m633.4 kB/s\u001b[0m eta \u001b[36m0:00:00\u001b[0m00:01\u001b[0m\n",
      "\u001b[?25hDownloading userpath-1.9.1-py3-none-any.whl (9.1 kB)\n",
      "Installing collected packages: userpath, argcomplete, pipx\n",
      "\u001b[33m  WARNING: The script userpath is installed in '/home/pedrov/.local/bin' which is not on PATH.\n",
      "  Consider adding this directory to PATH or, if you prefer to suppress this warning, use --no-warn-script-location.\u001b[0m\u001b[33m\n",
      "\u001b[0m\u001b[33m  WARNING: The script pipx is installed in '/home/pedrov/.local/bin' which is not on PATH.\n",
      "  Consider adding this directory to PATH or, if you prefer to suppress this warning, use --no-warn-script-location.\u001b[0m\u001b[33m\n",
      "\u001b[0mSuccessfully installed argcomplete-3.1.2 pipx-1.2.0 userpath-1.9.1\n"
     ]
    }
   ],
   "source": [
    "!pip install --user pipx --break-system-packages   "
   ]
  },
  {
   "cell_type": "code",
   "execution_count": 29,
   "metadata": {},
   "outputs": [
    {
     "ename": "SyntaxError",
     "evalue": "invalid syntax (4271248891.py, line 1)",
     "output_type": "error",
     "traceback": [
      "\u001b[0;36m  Cell \u001b[0;32mIn[29], line 1\u001b[0;36m\u001b[0m\n\u001b[0;31m    <py-script>\u001b[0m\n\u001b[0m    ^\u001b[0m\n\u001b[0;31mSyntaxError\u001b[0m\u001b[0;31m:\u001b[0m invalid syntax\n"
     ]
    }
   ],
   "source": [
    "\n",
    "    <py-script>\n",
    "        import matplotlib.pyplot as plt\n",
    "        import pandas as pd\n",
    "        from pyodide.http import open_url\n",
    "        from datetime import datetime\n",
    "    \n",
    "        # Carregue o DataFrame a partir de uma URL\n",
    "        url_GitHub = 'https://raw.githubusercontent.com/PedroVic12/NOVO_PETRO_FRONT/main/BackEnd/NOVO_PETRO_BACK_main/DADOS/Adendo%20A.3_Conjunto%20de%20Dados_DataSet.csv'\n",
    "        df2 = pd.read_csv(open_url(url_GitHub))\n",
    "    \n",
    "        # Preparar os dados para os gráficos\n",
    "        x = df2['role']  # Substitua 'Nome da Coluna X' pelo nome da coluna que você deseja usar no eixo X\n",
    "        y1 = df2['offset_seconds']  # Substitua 'Nome da Coluna Y1' pelo nome da coluna que você deseja usar no eixo Y para o primeiro gráfico\n",
    "        y2 = df2['PIT-501D']  # Substitua 'Nome da Coluna Y2' pelo nome da coluna que você deseja usar no eixo Y para o segundo gráfico\n",
    "    \n",
    "        # Função para criar um gráfico de barras\n",
    "        def create_bar_chart(x, y, title, xlabel, ylabel):\n",
    "            plt.figure()\n",
    "            plt.bar(x, y)\n",
    "            plt.xlabel(xlabel)\n",
    "            plt.ylabel(ylabel)\n",
    "            plt.title(title)\n",
    "    \n",
    "        # Função para criar um gráfico de dispersão\n",
    "        def create_scatter_chart(x, y, title, xlabel, ylabel):\n",
    "            plt.figure()\n",
    "            plt.scatter(x, y)\n",
    "            plt.xlabel(xlabel)\n",
    "            plt.ylabel(ylabel)\n",
    "            plt.title(title)\n",
    "    \n",
    "        # Crie os gráficos chamando as funções\n",
    "        create_bar_chart(x, y1, 'Gráfico de Barras', 'Eixo X', 'Eixo Y1')\n",
    "        create_scatter_chart(x, y2, 'Gráfico de Dispersão', 'Eixo X', 'Eixo Y2')\n",
    "    \n",
    "        # Exiba os gráficos\n",
    "        plt.show()\n",
    "    \n",
    "        # Salve os gráficos como imagens\n",
    "        bar_chart_path = 'bar_chart.png'\n",
    "        scatter_chart_path = 'scatter_chart.png'\n",
    "    \n",
    "        plt.figure()\n",
    "        plt.bar(x, y1)\n",
    "        plt.xlabel('Eixo X')\n",
    "        plt.ylabel('Eixo Y1')\n",
    "        plt.title('Gráfico de Barras')\n",
    "        plt.savefig(bar_chart_path)\n",
    "    \n",
    "        plt.figure()\n",
    "        plt.scatter(x, y2)\n",
    "        plt.xlabel('Eixo X')\n",
    "        plt.ylabel('Eixo Y2')\n",
    "        plt.title('Gráfico de Dispersão')\n",
    "        plt.savefig(scatter_chart_path)\n",
    "    \n",
    "        #! Exiba as imagens dos gráficos\n",
    "        #bar_chart = Element('bar_chart')\n",
    "        #scatter_chart = Element('scatter_chart')\n",
    "        #bar_chart.write(f'<img src=\"{bar_chart_path}\" alt=\"Gráfico de Barras\">')\n",
    "        #scatter_chart.write(f'<img src=\"{scatter_chart_path}\" alt=\"Gráfico de Dispersão\">')\n",
    "    </py-script>"
   ]
  },
  {
   "cell_type": "code",
   "execution_count": null,
   "metadata": {},
   "outputs": [],
   "source": []
  }
 ],
 "metadata": {
  "kernelspec": {
   "display_name": "Python 3.11.5 64-bit",
   "language": "python",
   "name": "python3"
  },
  "language_info": {
   "codemirror_mode": {
    "name": "ipython",
    "version": 3
   },
   "file_extension": ".py",
   "mimetype": "text/x-python",
   "name": "python",
   "nbconvert_exporter": "python",
   "pygments_lexer": "ipython3",
   "version": "3.11.5"
  },
  "orig_nbformat": 4,
  "vscode": {
   "interpreter": {
    "hash": "e7370f93d1d0cde622a1f8e1c04877d8463912d04d973331ad4851f04de6915a"
   }
  }
 },
 "nbformat": 4,
 "nbformat_minor": 2
}
